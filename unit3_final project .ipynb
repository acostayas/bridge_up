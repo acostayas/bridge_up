{
 "cells": [
  {
   "cell_type": "code",
   "execution_count": 16,
   "metadata": {},
   "outputs": [
    {
     "data": {
      "text/html": [
       "<div>\n",
       "<style scoped>\n",
       "    .dataframe tbody tr th:only-of-type {\n",
       "        vertical-align: middle;\n",
       "    }\n",
       "\n",
       "    .dataframe tbody tr th {\n",
       "        vertical-align: top;\n",
       "    }\n",
       "\n",
       "    .dataframe thead th {\n",
       "        text-align: right;\n",
       "    }\n",
       "</style>\n",
       "<table border=\"1\" class=\"dataframe\">\n",
       "  <thead>\n",
       "    <tr style=\"text-align: right;\">\n",
       "      <th></th>\n",
       "      <th>column 1</th>\n",
       "      <th>column 2</th>\n",
       "    </tr>\n",
       "  </thead>\n",
       "  <tbody>\n",
       "    <tr>\n",
       "      <th>0</th>\n",
       "      <td>20</td>\n",
       "      <td>0</td>\n",
       "    </tr>\n",
       "    <tr>\n",
       "      <th>1</th>\n",
       "      <td>50</td>\n",
       "      <td>1</td>\n",
       "    </tr>\n",
       "    <tr>\n",
       "      <th>2</th>\n",
       "      <td>15</td>\n",
       "      <td>1</td>\n",
       "    </tr>\n",
       "    <tr>\n",
       "      <th>3</th>\n",
       "      <td>50</td>\n",
       "      <td>1</td>\n",
       "    </tr>\n",
       "    <tr>\n",
       "      <th>4</th>\n",
       "      <td>65</td>\n",
       "      <td>0</td>\n",
       "    </tr>\n",
       "    <tr>\n",
       "      <th>5</th>\n",
       "      <td>50</td>\n",
       "      <td>0</td>\n",
       "    </tr>\n",
       "    <tr>\n",
       "      <th>6</th>\n",
       "      <td>10</td>\n",
       "      <td>1</td>\n",
       "    </tr>\n",
       "  </tbody>\n",
       "</table>\n",
       "</div>"
      ],
      "text/plain": [
       "   column 1  column 2\n",
       "0        20         0\n",
       "1        50         1\n",
       "2        15         1\n",
       "3        50         1\n",
       "4        65         0\n",
       "5        50         0\n",
       "6        10         1"
      ]
     },
     "execution_count": 16,
     "metadata": {},
     "output_type": "execute_result"
    }
   ],
   "source": [
    "import pandas as pd\n",
    "import matplotlib.pyplot as plt \n",
    "import numpy as np \n",
    "sample_df = pd.DataFrame({\"column 1\": [20,50,15,50,65,50,10], \"column 2\": [0,1,1,1,0,0,1]})\n",
    "sample_df"
   ]
  },
  {
   "cell_type": "code",
   "execution_count": 17,
   "metadata": {},
   "outputs": [
    {
     "name": "stdout",
     "output_type": "stream",
     "text": [
      "1    50\n",
      "2    15\n",
      "3    50\n",
      "6    10\n",
      "Name: column 1, dtype: int64\n"
     ]
    }
   ],
   "source": [
    "#isolate data(from my cluster) \n",
    "one_vals = sample_df[\"column 1\"].loc[sample_df[\"column 2\"] == 1] \n",
    "print(one_vals)   "
   ]
  },
  {
   "cell_type": "code",
   "execution_count": 18,
   "metadata": {},
   "outputs": [
    {
     "name": "stdout",
     "output_type": "stream",
     "text": [
      "Series([], Name: column 2, dtype: int64)\n"
     ]
    }
   ],
   "source": [
    "# make list of all data \n",
    "fifty_vals = sample_df[\"column 2\"].loc[sample_df[\"column 1\"] == 1]\n",
    "print(fifty_vals)"
   ]
  },
  {
   "cell_type": "code",
   "execution_count": 19,
   "metadata": {},
   "outputs": [
    {
     "data": {
      "text/html": [
       "<div>\n",
       "<style scoped>\n",
       "    .dataframe tbody tr th:only-of-type {\n",
       "        vertical-align: middle;\n",
       "    }\n",
       "\n",
       "    .dataframe tbody tr th {\n",
       "        vertical-align: top;\n",
       "    }\n",
       "\n",
       "    .dataframe thead th {\n",
       "        text-align: right;\n",
       "    }\n",
       "</style>\n",
       "<table border=\"1\" class=\"dataframe\">\n",
       "  <thead>\n",
       "    <tr style=\"text-align: right;\">\n",
       "      <th></th>\n",
       "      <th>row_id</th>\n",
       "      <th>tgas_source_id</th>\n",
       "      <th>name</th>\n",
       "      <th>ra</th>\n",
       "      <th>dec</th>\n",
       "      <th>parallax</th>\n",
       "      <th>distance</th>\n",
       "      <th>G</th>\n",
       "      <th>J</th>\n",
       "      <th>rave_obs_id</th>\n",
       "      <th>rv</th>\n",
       "      <th>erv</th>\n",
       "      <th>group_id</th>\n",
       "      <th>group_size</th>\n",
       "    </tr>\n",
       "  </thead>\n",
       "  <tbody>\n",
       "    <tr>\n",
       "      <th>639</th>\n",
       "      <td>878</td>\n",
       "      <td>664683125774748032</td>\n",
       "      <td>HIP 42106</td>\n",
       "      <td>128.748282</td>\n",
       "      <td>21.096933</td>\n",
       "      <td>5.6650</td>\n",
       "      <td>181.036</td>\n",
       "      <td>10.988</td>\n",
       "      <td>10.012</td>\n",
       "      <td>NaN</td>\n",
       "      <td>NaN</td>\n",
       "      <td>NaN</td>\n",
       "      <td>6</td>\n",
       "      <td>58</td>\n",
       "    </tr>\n",
       "    <tr>\n",
       "      <th>640</th>\n",
       "      <td>8681</td>\n",
       "      <td>658465868556261888</td>\n",
       "      <td>TYC 1392-328-1</td>\n",
       "      <td>129.532047</td>\n",
       "      <td>17.050623</td>\n",
       "      <td>5.5242</td>\n",
       "      <td>185.010</td>\n",
       "      <td>9.640</td>\n",
       "      <td>8.943</td>\n",
       "      <td>NaN</td>\n",
       "      <td>NaN</td>\n",
       "      <td>NaN</td>\n",
       "      <td>6</td>\n",
       "      <td>58</td>\n",
       "    </tr>\n",
       "    <tr>\n",
       "      <th>641</th>\n",
       "      <td>8687</td>\n",
       "      <td>658628905514597376</td>\n",
       "      <td>TYC 1396-398-1</td>\n",
       "      <td>131.049688</td>\n",
       "      <td>17.902137</td>\n",
       "      <td>5.2245</td>\n",
       "      <td>196.198</td>\n",
       "      <td>9.780</td>\n",
       "      <td>9.049</td>\n",
       "      <td>NaN</td>\n",
       "      <td>NaN</td>\n",
       "      <td>NaN</td>\n",
       "      <td>6</td>\n",
       "      <td>58</td>\n",
       "    </tr>\n",
       "    <tr>\n",
       "      <th>642</th>\n",
       "      <td>8730</td>\n",
       "      <td>659439073785562240</td>\n",
       "      <td>HIP 42436</td>\n",
       "      <td>129.795532</td>\n",
       "      <td>18.175939</td>\n",
       "      <td>5.7328</td>\n",
       "      <td>176.077</td>\n",
       "      <td>10.091</td>\n",
       "      <td>9.307</td>\n",
       "      <td>NaN</td>\n",
       "      <td>NaN</td>\n",
       "      <td>NaN</td>\n",
       "      <td>6</td>\n",
       "      <td>58</td>\n",
       "    </tr>\n",
       "    <tr>\n",
       "      <th>643</th>\n",
       "      <td>8736</td>\n",
       "      <td>659472230933525760</td>\n",
       "      <td>TYC 1395-1484-1</td>\n",
       "      <td>130.381248</td>\n",
       "      <td>18.500565</td>\n",
       "      <td>5.2591</td>\n",
       "      <td>197.704</td>\n",
       "      <td>10.221</td>\n",
       "      <td>9.364</td>\n",
       "      <td>20120315_0842p20_077</td>\n",
       "      <td>33.74</td>\n",
       "      <td>1.36</td>\n",
       "      <td>6</td>\n",
       "      <td>58</td>\n",
       "    </tr>\n",
       "  </tbody>\n",
       "</table>\n",
       "</div>"
      ],
      "text/plain": [
       "     row_id      tgas_source_id             name          ra        dec  \\\n",
       "639     878  664683125774748032        HIP 42106  128.748282  21.096933   \n",
       "640    8681  658465868556261888   TYC 1392-328-1  129.532047  17.050623   \n",
       "641    8687  658628905514597376   TYC 1396-398-1  131.049688  17.902137   \n",
       "642    8730  659439073785562240        HIP 42436  129.795532  18.175939   \n",
       "643    8736  659472230933525760  TYC 1395-1484-1  130.381248  18.500565   \n",
       "\n",
       "     parallax  distance       G       J           rave_obs_id     rv   erv  \\\n",
       "639    5.6650   181.036  10.988  10.012                   NaN    NaN   NaN   \n",
       "640    5.5242   185.010   9.640   8.943                   NaN    NaN   NaN   \n",
       "641    5.2245   196.198   9.780   9.049                   NaN    NaN   NaN   \n",
       "642    5.7328   176.077  10.091   9.307                   NaN    NaN   NaN   \n",
       "643    5.2591   197.704  10.221   9.364  20120315_0842p20_077  33.74  1.36   \n",
       "\n",
       "     group_id  group_size  \n",
       "639         6          58  \n",
       "640         6          58  \n",
       "641         6          58  \n",
       "642         6          58  \n",
       "643         6          58  "
      ]
     },
     "execution_count": 19,
     "metadata": {},
     "output_type": "execute_result"
    }
   ],
   "source": [
    "#make list of all the G-value (color) \n",
    "df = pd.read_csv(\"oh_table.csv\")\n",
    "pdf = df.loc[df[\"group_id\"] == 6]\n",
    "pdf.head() "
   ]
  },
  {
   "cell_type": "code",
   "execution_count": 20,
   "metadata": {},
   "outputs": [
    {
     "name": "stdout",
     "output_type": "stream",
     "text": [
      "639    10.988\n",
      "640     9.640\n",
      "641     9.780\n",
      "642    10.091\n",
      "643    10.221\n",
      "Name: G, dtype: float64\n",
      "639    10.012\n",
      "640     8.943\n",
      "641     9.049\n",
      "642     9.307\n",
      "643     9.364\n",
      "Name: J, dtype: float64\n"
     ]
    }
   ],
   "source": [
    "G = pdf[\"G\"]\n",
    "print(G.head())\n",
    "\n",
    "J = pdf[\"J\"]\n",
    "print(J.head())  "
   ]
  },
  {
   "cell_type": "code",
   "execution_count": 21,
   "metadata": {},
   "outputs": [
    {
     "data": {
      "text/plain": [
       "639    181.036\n",
       "640    185.010\n",
       "641    196.198\n",
       "642    176.077\n",
       "643    197.704\n",
       "Name: distance, dtype: float64"
      ]
     },
     "execution_count": 21,
     "metadata": {},
     "output_type": "execute_result"
    }
   ],
   "source": [
    "d = pdf[\"distance\"]\n",
    "d.head()"
   ]
  },
  {
   "cell_type": "code",
   "execution_count": 22,
   "metadata": {},
   "outputs": [],
   "source": [
    "color = G-J "
   ]
  },
  {
   "cell_type": "code",
   "execution_count": 25,
   "metadata": {},
   "outputs": [
    {
     "name": "stdout",
     "output_type": "stream",
     "text": [
      "639    4.699175\n",
      "640    3.304024\n",
      "641    3.316527\n",
      "642    3.862487\n",
      "643    3.740923\n",
      "644    2.700465\n",
      "645    1.891262\n",
      "646    3.684998\n",
      "647    2.829391\n",
      "648    4.030237\n",
      "649    1.948987\n",
      "650    3.017172\n",
      "651    4.075123\n",
      "652    1.338897\n",
      "653    3.676242\n",
      "654    1.546775\n",
      "655    3.501957\n",
      "656    0.255317\n",
      "657    3.320186\n",
      "658    1.180495\n",
      "659    2.495054\n",
      "660    2.313068\n",
      "661    1.244021\n",
      "662   -0.189103\n",
      "663   -0.290485\n",
      "664    0.350595\n",
      "665    2.727054\n",
      "666    0.135525\n",
      "667    2.353600\n",
      "668    2.259945\n",
      "669    3.307467\n",
      "670    3.425851\n",
      "671    3.738007\n",
      "672    0.299832\n",
      "673    2.085628\n",
      "674    2.670305\n",
      "675    3.605238\n",
      "676    2.146626\n",
      "677    3.451729\n",
      "678    3.159488\n",
      "679    3.443134\n",
      "680   -0.097529\n",
      "681    0.994585\n",
      "682    1.822862\n",
      "683    2.785732\n",
      "684    1.862047\n",
      "685    3.108011\n",
      "686    2.431777\n",
      "687    2.815763\n",
      "688    2.065640\n",
      "689    2.826034\n",
      "690    3.011077\n",
      "691    2.348231\n",
      "692    4.098035\n",
      "693    1.863355\n",
      "694    3.799557\n",
      "695    3.332981\n",
      "696    2.180268\n",
      "dtype: float64\n"
     ]
    }
   ],
   "source": [
    "am = G - 5 * np.log10(d) + 5 \n",
    "print(am)\n"
   ]
  },
  {
   "cell_type": "code",
   "execution_count": 29,
   "metadata": {},
   "outputs": [
    {
     "data": {
      "image/png": "[encoded data removed]",
      "text/plain": [
       "<Figure size 432x288 with 1 Axes>"
      ]
     },
     "metadata": {},
     "output_type": "display_data"
    }
   ],
   "source": [
    "##cm = plt.cm.get_cmap(\"RdYlBu\")# This is the colormap we'll use for our data points. Note: _r reverses the colormap\n",
    "cm = plt.cm.get_cmap (\"cool\")\n",
    "plt.scatter(color, am, c = color, cmap=cm) \n",
    "plt.xlabel(\" Absolute Magnitude\")\n",
    "plt.ylabel(\"Color G-J\") \n",
    "plt.title(\"stars\")\n",
    "plt.gca().invert_yaxis()\n",
    "plt.show() "
   ]
  }
 ],
 "metadata": {
  "kernelspec": {
   "display_name": "Python 3",
   "language": "python",
   "name": "python3"
  },
  "language_info": {
   "codemirror_mode": {
    "name": "ipython",
    "version": 3
   },
   "file_extension": ".py",
   "mimetype": "text/x-python",
   "name": "python",
   "nbconvert_exporter": "python",
   "pygments_lexer": "ipython3",
   "version": "3.6.5"
  }
 },
 "nbformat": 4,
 "nbformat_minor": 2
}
